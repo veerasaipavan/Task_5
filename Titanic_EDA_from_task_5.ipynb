{
 "cells": [
  {
   "cell_type": "markdown",
   "id": "115e1393",
   "metadata": {},
   "source": [
    "# 📘 Task 5: Exploratory Data Analysis (EDA) on the Titanic Dataset"
   ]
  },
  {
   "cell_type": "code",
   "execution_count": null,
   "id": "1288c0c4",
   "metadata": {},
   "outputs": [],
   "source": [
    "# ----------------------------------------------------------------------------\n",
    "# Task 5: Exploratory Data Analysis (EDA) on the TITANIC DATASET\n",
    "# Objective: Extract insights using visual and statistical exploration.\n",
    "# ----------------------------------------------------------------------------\n",
    "\n",
    "import pandas as pd\n",
    "import matplotlib.pyplot as plt\n",
    "import seaborn as sns\n",
    "import numpy as np\n",
    "\n"
   ]
  },
  {
   "cell_type": "markdown",
   "id": "440ad83e",
   "metadata": {},
   "source": [
    "## 1️⃣ Data Loading and Initial Cleaning"
   ]
  },
  {
   "cell_type": "code",
   "execution_count": null,
   "id": "121b6ba6",
   "metadata": {},
   "outputs": [],
   "source": [
    "\n",
    "df = pd.read_csv(r'\"C:\\Users\\veera\\OneDrive\\Desktop\\Documents\\Desktop\\elevate labs\\titanic.csv\"')\n",
    "df.drop(['PassengerId', 'Name', 'Ticket', 'Cabin'], axis=1, inplace=True)\n",
    "df['Age'].fillna(df['Age'].median(), inplace=True)\n",
    "df['Embarked'].fillna(df['Embarked'].mode()[0], inplace=True)\n",
    "df['Pclass'] = df['Pclass'].astype('category')\n",
    "df.head()"
   ]
  },
  {
   "cell_type": "markdown",
   "id": "9002a677",
   "metadata": {},
   "source": [
    "## 2️⃣ Statistical Exploration"
   ]
  },
  {
   "cell_type": "code",
   "execution_count": null,
   "id": "f044c7ed",
   "metadata": {},
   "outputs": [],
   "source": [
    "# Dataset Info\n",
    "df.info()"
   ]
  },
  {
   "cell_type": "code",
   "execution_count": null,
   "id": "dcca7e9b",
   "metadata": {},
   "outputs": [],
   "source": [
    "# Descriptive statistics\n",
    "df.describe(include='all')"
   ]
  },
  {
   "cell_type": "code",
   "execution_count": null,
   "id": "b0b10932",
   "metadata": {},
   "outputs": [],
   "source": [
    "# Value counts\n",
    "print(\"Sex Distribution (%)\")\n",
    "print(df['Sex'].value_counts(normalize=True).mul(100).round(2).astype(str) + '%')\n",
    "\n",
    "print(\"\\nSurvival Distribution (%)\")\n",
    "print(df['Survived'].value_counts(normalize=True).mul(100).round(2).astype(str) + '%')\n",
    "\n",
    "print(\"\\nPclass Counts\")\n",
    "print(df['Pclass'].value_counts(sort=False))"
   ]
  },
  {
   "cell_type": "markdown",
   "id": "fc2542af",
   "metadata": {},
   "source": [
    "## 3️⃣ Visual Exploration\n",
    "\n",
    "### Age and Fare Distributions"
   ]
  },
  {
   "cell_type": "code",
   "execution_count": null,
   "id": "cfccc747",
   "metadata": {},
   "outputs": [],
   "source": [
    "plt.figure(figsize=(12, 5))\n",
    "\n",
    "plt.subplot(1, 2, 1)\n",
    "sns.histplot(df['Age'], bins=30, kde=True, color='#2c7bb6')\n",
    "plt.title('Age Distribution (Histogram)')\n",
    "\n",
    "plt.subplot(1, 2, 2)\n",
    "sns.boxplot(y=df['Fare'], color='#fdae61')\n",
    "plt.title('Fare Distribution (Boxplot)')\n",
    "plt.tight_layout()\n",
    "plt.show()"
   ]
  },
  {
   "cell_type": "markdown",
   "id": "dfdf3bb4",
   "metadata": {},
   "source": [
    "**Observations:**\n",
    "- Most passengers were between 20–40 years old.\n",
    "- Fare distribution is highly skewed, with a few very high outliers."
   ]
  },
  {
   "cell_type": "markdown",
   "id": "988ffa8e",
   "metadata": {},
   "source": [
    "### Survival Rate by Categorical Factors"
   ]
  },
  {
   "cell_type": "code",
   "execution_count": null,
   "id": "02a3d428",
   "metadata": {},
   "outputs": [],
   "source": [
    "fig, axes = plt.subplots(1, 3, figsize=(18, 5))\n",
    "\n",
    "sns.barplot(x='Sex', y='Survived', data=df, palette='Set1', ax=axes[0])\n",
    "axes[0].set_title('Survival Rate by Sex')\n",
    "\n",
    "sns.barplot(x='Pclass', y='Survived', data=df, palette='viridis', ax=axes[1])\n",
    "axes[1].set_title('Survival Rate by Pclass')\n",
    "\n",
    "sns.barplot(x='Embarked', y='Survived', data=df, palette='cool', ax=axes[2])\n",
    "axes[2].set_title('Survival Rate by Embarked Port')\n",
    "plt.tight_layout()\n",
    "plt.show()"
   ]
  },
  {
   "cell_type": "markdown",
   "id": "8fa33d21",
   "metadata": {},
   "source": [
    "**Observations:**\n",
    "- Females had much higher survival chances than males.\n",
    "- 1st-class > 2nd-class > 3rd-class survival hierarchy.\n",
    "- Passengers from Cherbourg survived more than Southampton/Queenstown."
   ]
  },
  {
   "cell_type": "markdown",
   "id": "67e83959",
   "metadata": {},
   "source": [
    "### Age vs Fare (Scatterplot by Survival)"
   ]
  },
  {
   "cell_type": "code",
   "execution_count": null,
   "id": "87cf16c1",
   "metadata": {},
   "outputs": [],
   "source": [
    "plt.figure(figsize=(10, 6))\n",
    "sns.scatterplot(x='Age', y='Fare', hue='Survived', data=df, alpha=0.7, palette='Spectral')\n",
    "plt.title('Age vs Fare, Grouped by Survival')\n",
    "plt.legend(title='Survived', labels=['No (0)', 'Yes (1)'])\n",
    "plt.show()"
   ]
  },
  {
   "cell_type": "markdown",
   "id": "4b6a4d62",
   "metadata": {},
   "source": [
    "**Observations:**\n",
    "- Survivors often paid higher fares.\n",
    "- Children <10 had higher survival, regardless of fare."
   ]
  },
  {
   "cell_type": "markdown",
   "id": "e68c02d9",
   "metadata": {},
   "source": [
    "## 4️⃣ Advanced Visualizations\n",
    "\n",
    "### Pairplot"
   ]
  },
  {
   "cell_type": "code",
   "execution_count": null,
   "id": "bbab96a2",
   "metadata": {},
   "outputs": [],
   "source": [
    "numerical_df = df[['Survived', 'Age', 'SibSp', 'Parch', 'Fare']]\n",
    "sns.pairplot(numerical_df, hue='Survived', palette='coolwarm', diag_kind='kde')\n",
    "plt.suptitle('Pairplot of Numerical Features by Survival', y=1.02)\n",
    "plt.show()"
   ]
  },
  {
   "cell_type": "markdown",
   "id": "0fa924f6",
   "metadata": {},
   "source": [
    "### Correlation Heatmap"
   ]
  },
  {
   "cell_type": "code",
   "execution_count": null,
   "id": "5786b72d",
   "metadata": {},
   "outputs": [],
   "source": [
    "df['Sex_Numeric'] = df['Sex'].map({'male': 0, 'female': 1})\n",
    "df['Pclass_Numeric'] = df['Pclass'].astype(int)\n",
    "\n",
    "correlation_cols = ['Survived', 'Age', 'SibSp', 'Parch', 'Fare', 'Sex_Numeric', 'Pclass_Numeric']\n",
    "correlation_matrix = df[correlation_cols].corr()\n",
    "\n",
    "plt.figure(figsize=(9, 7))\n",
    "sns.heatmap(\n",
    "    correlation_matrix, annot=True, cmap='coolwarm',\n",
    "    fmt='.2f', linewidths=.5, linecolor='black', cbar_kws={'label': 'Correlation Coefficient'}\n",
    ")\n",
    "plt.title('Correlation Matrix of Key Features')\n",
    "plt.show()"
   ]
  },
  {
   "cell_type": "markdown",
   "id": "b59fc2ce",
   "metadata": {},
   "source": [
    "**Observations:**\n",
    "- Sex shows the strongest correlation with survival (+0.54).\n",
    "- Pclass is negatively correlated (-0.34).\n",
    "- Fare shows moderate positive correlation (+0.26).\n",
    "- Age has a weak negative correlation."
   ]
  },
  {
   "cell_type": "markdown",
   "id": "0dc0c1d4",
   "metadata": {},
   "source": [
    "## 5️⃣ 📌 Summary of Findings\n",
    "1. **Gender** is the strongest predictor of survival → females had higher chances.\n",
    "2. **Socio-economic status (Pclass & Fare)** significantly influenced outcomes.\n",
    "3. **Children (Age < 10)** had higher survival rates → evacuation priority.\n",
    "4. **Cherbourg (C) passengers** had better survival odds than other ports.\n",
    "5. Titanic survival was shaped by both **social norms (women/children first)** and **economic status**."
   ]
  }
 ],
 "metadata": {
  "kernelspec": {
   "display_name": "Python 3",
   "language": "python",
   "name": "python3"
  },
  "language_info": {
   "name": "python",
   "version": "3.10"
  }
 },
 "nbformat": 4,
 "nbformat_minor": 5
}
